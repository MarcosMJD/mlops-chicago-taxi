{
 "cells": [
  {
   "cell_type": "markdown",
   "id": "1cb0525e",
   "metadata": {},
   "source": [
    "Use ipython kernel install --name \"name of the viertual env\" --user \n",
    "To add the kernel to jupyter and display hints and so on\n",
    "Then Select the kernel"
   ]
  },
  {
   "cell_type": "code",
   "execution_count": 1,
   "id": "1b8c31d5",
   "metadata": {},
   "outputs": [],
   "source": [
    "from IPython.display import display\n",
    "import matplotlib.pyplot as plt\n",
    "import seaborn as sns\n",
    "\n",
    "from typing import List\n",
    "import pandas as pd\n",
    "import numpy as np\n",
    "\n",
    "from sklearn.feature_extraction import DictVectorizer\n",
    "from sklearn.linear_model import LinearRegression, Lasso, Ridge\n",
    "from sklearn.svm import LinearSVR\n",
    "from sklearn.ensemble import RandomForestRegressor, GradientBoostingRegressor, ExtraTreesRegressor\n",
    "\n",
    "from sklearn.metrics import mean_squared_error\n",
    "\n",
    "from sklearn.pipeline import make_pipeline\n",
    "\n",
    "from datetime import datetime\n",
    "import requests\n",
    "\n",
    "import mlflow\n",
    "\n",
    "import os"
   ]
  },
  {
   "cell_type": "markdown",
   "id": "157bf3b5",
   "metadata": {},
   "source": [
    "## Setup MLFlow (external server option)"
   ]
  },
  {
   "cell_type": "code",
   "execution_count": 5,
   "id": "25c20e2c",
   "metadata": {},
   "outputs": [],
   "source": [
    "MLFLOW_TRACKING_URI = os.getenv(\"MLFLOW_TRACKING_URI\") or \"http://52.213.112.212:8080\""
   ]
  },
  {
   "cell_type": "code",
   "execution_count": 6,
   "id": "d6914467",
   "metadata": {},
   "outputs": [],
   "source": [
    "MLFLOW_EXPERIMENT_NAME = os.getenv(\"PROJECT_NAME\") or \"chigaco_taxi\""
   ]
  },
  {
   "cell_type": "code",
   "execution_count": 7,
   "id": "b6d97335",
   "metadata": {},
   "outputs": [],
   "source": [
    "MLFLOW_MODEL_NAME = MLFLOW_EXPERIMENT_NAME+\"_regressor\""
   ]
  },
  {
   "cell_type": "code",
   "execution_count": 8,
   "id": "a3f6e746",
   "metadata": {},
   "outputs": [],
   "source": [
    "mlflow.set_tracking_uri(MLFLOW_TRACKING_URI)\n",
    "mlflow.set_experiment(MLFLOW_EXPERIMENT_NAME)\n",
    "mlflow.sklearn.autolog()"
   ]
  },
  {
   "cell_type": "code",
   "execution_count": 9,
   "id": "4fff996b",
   "metadata": {},
   "outputs": [
    {
     "data": {
      "text/plain": [
       "'http://52.213.112.212:8080'"
      ]
     },
     "execution_count": 9,
     "metadata": {},
     "output_type": "execute_result"
    }
   ],
   "source": [
    "mlflow.get_tracking_uri()"
   ]
  },
  {
   "cell_type": "code",
   "execution_count": 10,
   "id": "56fb25f7",
   "metadata": {},
   "outputs": [],
   "source": [
    "# Don't use this since it will start a run for this that will stay unfinished\n",
    "# mlflow.get_artifact_uri()"
   ]
  },
  {
   "cell_type": "code",
   "execution_count": 11,
   "id": "7b216897",
   "metadata": {},
   "outputs": [
    {
     "data": {
      "text/plain": [
       "'http://52.213.112.212:8080'"
      ]
     },
     "execution_count": 11,
     "metadata": {},
     "output_type": "execute_result"
    }
   ],
   "source": [
    "mlflow.get_registry_uri()"
   ]
  },
  {
   "cell_type": "markdown",
   "id": "c626f0e8",
   "metadata": {},
   "source": [
    "https://data.cityofchicago.org/Transportation/Taxi-Trips-by-Month/x3ws-m7si\n",
    "https://data.cityofchicago.org/api/views/wrvz-psew/rows.csv?query=select%20*%20where%20%60trip_start_timestamp%60%20%3E%3D%20%272022-01-01%27%20AND%20%60trip_start_timestamp%60%20%3C%20%272022-02-01%27&read_from_nbe=true&version=2.1&accessType=DOWNLOAD"
   ]
  },
  {
   "cell_type": "markdown",
   "id": "6ca98f20",
   "metadata": {},
   "source": [
    "## Set constants"
   ]
  },
  {
   "cell_type": "code",
   "execution_count": 12,
   "id": "9f2ece7d",
   "metadata": {},
   "outputs": [],
   "source": [
    "DATA_PATH = \"data\"\n",
    "TRAIN_MONTH = 2\n",
    "VAL_MONTH = 3\n",
    "TRAIN_SET = f\"Taxi_Trips_2022_{TRAIN_MONTH:02d}.csv\"\n",
    "VAL_SET = f\"Taxi_Trips_2022_{VAL_MONTH:02d}.csv\"\n",
    "TRAIN_PATHFILE = DATA_PATH + TRAIN_SET\n",
    "VAL_PATHFILE = DATA_PATH + VAL_SET"
   ]
  },
  {
   "cell_type": "markdown",
   "id": "b7896fbb",
   "metadata": {},
   "source": [
    "## Download training, validation datasets"
   ]
  },
  {
   "cell_type": "code",
   "execution_count": 13,
   "id": "8fa93138",
   "metadata": {},
   "outputs": [],
   "source": [
    "def download_file(url:str, output_filename:str):\n",
    "    if output_filename == None:\n",
    "        output_filename = url.split('/')[-1]\n",
    "    with requests.get(url, stream=True) as r:\n",
    "        r.raise_for_status()\n",
    "        with open(output_filename, 'wb') as f:\n",
    "            for chunk in r.iter_content(chunk_size=8192): \n",
    "                # If you have chunk encoded response uncomment if\n",
    "                # and set chunk_size parameter to None.\n",
    "                #if chunk: \n",
    "                f.write(chunk)\n",
    "    return output_filename"
   ]
  },
  {
   "cell_type": "code",
   "execution_count": 14,
   "id": "79aa628e",
   "metadata": {},
   "outputs": [],
   "source": [
    "def download_dataset(start_date, end_date, output_filename:str):\n",
    "    \n",
    "    start_date = start_date.strftime('%Y-%m-%d')\n",
    "    end_date = end_date.strftime('%Y-%m-%d')\n",
    "    \n",
    "    uri = f\"https://data.cityofchicago.org/api/views/wrvz-psew/rows.csv?\" + \\\n",
    "    \"query=select%20*%20where%20%60trip_start_timestamp%60%20%3E%3D%20%27\" + \\\n",
    "    f\"{start_date}%27%20AND%20%60trip_start_timestamp%60%20%3C%20%27\" + \\\n",
    "    f\"{end_date}%27&read_from_nbe=true&version=2.1&accessType=DOWNLOAD\"\n",
    "    output_filename = download_file(uri, output_filename)\n",
    "\n",
    "    return output_filename"
   ]
  },
  {
   "cell_type": "code",
   "execution_count": 16,
   "id": "9f19f00b",
   "metadata": {},
   "outputs": [],
   "source": [
    " if not os.path.exists(DATA_PATH):\n",
    "        os.makedirs(DATA_PATH)"
   ]
  },
  {
   "cell_type": "code",
   "execution_count": 17,
   "id": "2490c1cc",
   "metadata": {},
   "outputs": [
    {
     "data": {
      "text/plain": [
       "'../../data/Taxi_Trips_2022_03.csv'"
      ]
     },
     "execution_count": 17,
     "metadata": {},
     "output_type": "execute_result"
    }
   ],
   "source": [
    "download_dataset(datetime(2022,TRAIN_MONTH,1),datetime(2022,TRAIN_MONTH,2), TRAIN_PATHFILE)\n",
    "download_dataset(datetime(2022,VAL_MONTH,1),datetime(2022,VAL_MONTH,2), VAL_PATHFILE)"
   ]
  },
  {
   "cell_type": "markdown",
   "id": "43724d95",
   "metadata": {},
   "source": [
    "## Read datasets and convert to parket"
   ]
  },
  {
   "cell_type": "code",
   "execution_count": 18,
   "id": "7231ea8c",
   "metadata": {},
   "outputs": [],
   "source": [
    "def read_dataframe_csv(filename: str, parse_dates: List[str]=[]):\n",
    "    df = pd.read_csv(filename, parse_dates=parse_dates)\n",
    "    df.columns = df.columns.str.lower().str.replace(' ','_')\n",
    "    output_file_name = filename.replace('csv','parquet')\n",
    "    df.to_parquet(output_file_name,engine='pyarrow',index=None)\n",
    "    return output_file_name"
   ]
  },
  {
   "cell_type": "code",
   "execution_count": 19,
   "id": "564d3d4f",
   "metadata": {},
   "outputs": [],
   "source": [
    "DATE_FIELDS = ['Trip Start Timestamp','Trip End Timestamp']"
   ]
  },
  {
   "cell_type": "code",
   "execution_count": 20,
   "id": "cd5a4e59",
   "metadata": {},
   "outputs": [],
   "source": [
    "train_file_name = read_dataframe_csv(filename=TRAIN_PATHFILE, parse_dates=DATE_FIELDS)\n",
    "df_raw_train = pd.read_parquet(train_file_name)\n",
    "df_raw_val = pd.read_parquet(read_dataframe_csv(filename=VAL_PATHFILE, parse_dates=DATE_FIELDS))"
   ]
  },
  {
   "cell_type": "markdown",
   "id": "372f06eb",
   "metadata": {},
   "source": [
    "## Analyse a dataset to select features and further process to be done"
   ]
  },
  {
   "cell_type": "code",
   "execution_count": 21,
   "id": "8a82a162",
   "metadata": {},
   "outputs": [],
   "source": [
    "def analyse_dataframe(df: pd.DataFrame, target:str =None, verbose=False):\n",
    "    \n",
    "    print(f'Analysing dataset...')\n",
    "    print(f'shape: {df.shape}')\n",
    "    print(f'types:\\n{df.dtypes}')\n",
    "    df.head().T\n",
    "    \n",
    "    categorical_columns = list(df.dtypes[df.dtypes == 'object'].index)\n",
    "    numerical_columns = list(df.dtypes[df.dtypes != 'object'].index)\n",
    "    \n",
    "    for column in df.columns:\n",
    "        print('\\n' + column)\n",
    "        if column in categorical_columns:\n",
    "            print('Suggested type: categorical')\n",
    "        else:\n",
    "            print('Suggested type: numerical')\n",
    "        nuniques = df[column].nunique()\n",
    "        if nuniques < 50:\n",
    "            print(column, df[column].unique())\n",
    "        else:\n",
    "            print(f'Number of uniques values is {nuniques}')\n",
    "        \n",
    "        print(f'Number of nulls: {df[column].isnull().sum()}')\n",
    "    \n",
    "    sns.displot(df[target], kind='kde')\n",
    "    \n",
    "    print(f'\\ndescription of {target}:')\n",
    "    print(df[target].describe(percentiles=[0.01, 0.05, 0.1, 0.2, 0.75, 0.95, 0.98, 0.99]))\n",
    "    print(f'% of trips within 1-60 min: {((df[target] >= 60) & (df[target]<=60*60)).mean()}')\n",
    "    \n",
    "    return numerical_columns, categorical_columns"
   ]
  },
  {
   "cell_type": "code",
   "execution_count": 22,
   "id": "c69ebcaa",
   "metadata": {},
   "outputs": [
    {
     "name": "stdout",
     "output_type": "stream",
     "text": [
      "Analysing dataset...\n",
      "shape: (12698, 23)\n",
      "types:\n",
      "trip_id                               object\n",
      "taxi_id                               object\n",
      "trip_start_timestamp          datetime64[ns]\n",
      "trip_end_timestamp            datetime64[ns]\n",
      "trip_seconds                         float64\n",
      "trip_miles                           float64\n",
      "pickup_census_tract                  float64\n",
      "dropoff_census_tract                 float64\n",
      "pickup_community_area                float64\n",
      "dropoff_community_area               float64\n",
      "fare                                 float64\n",
      "tips                                 float64\n",
      "tolls                                float64\n",
      "extras                               float64\n",
      "trip_total                           float64\n",
      "payment_type                          object\n",
      "company                               object\n",
      "pickup_centroid_latitude             float64\n",
      "pickup_centroid_longitude            float64\n",
      "pickup_centroid_location              object\n",
      "dropoff_centroid_latitude            float64\n",
      "dropoff_centroid_longitude           float64\n",
      "dropoff_centroid__location            object\n",
      "dtype: object\n",
      "\n",
      "trip_id\n",
      "Suggested type: categorical\n",
      "Number of uniques values is 12698\n",
      "Number of nulls: 0\n",
      "\n",
      "taxi_id\n",
      "Suggested type: categorical\n",
      "Number of uniques values is 1487\n",
      "Number of nulls: 3\n",
      "\n",
      "trip_start_timestamp\n",
      "Suggested type: numerical\n",
      "Number of uniques values is 96\n",
      "Number of nulls: 0\n",
      "\n",
      "trip_end_timestamp\n",
      "Suggested type: numerical\n",
      "Number of uniques values is 110\n",
      "Number of nulls: 2\n",
      "\n",
      "trip_seconds\n",
      "Suggested type: numerical\n",
      "Number of uniques values is 2642\n",
      "Number of nulls: 7\n",
      "\n",
      "trip_miles\n",
      "Suggested type: numerical\n",
      "Number of uniques values is 1862\n",
      "Number of nulls: 1\n",
      "\n",
      "pickup_census_tract\n",
      "Suggested type: numerical\n",
      "Number of uniques values is 66\n",
      "Number of nulls: 9093\n",
      "\n",
      "dropoff_census_tract\n",
      "Suggested type: numerical\n",
      "Number of uniques values is 91\n",
      "Number of nulls: 9137\n",
      "\n",
      "pickup_community_area\n",
      "Suggested type: numerical\n",
      "Number of uniques values is 77\n",
      "Number of nulls: 828\n",
      "\n",
      "dropoff_community_area\n",
      "Suggested type: numerical\n",
      "Number of uniques values is 77\n",
      "Number of nulls: 1154\n",
      "\n",
      "fare\n",
      "Suggested type: numerical\n",
      "Number of uniques values is 933\n",
      "Number of nulls: 5\n",
      "\n",
      "tips\n",
      "Suggested type: numerical\n",
      "Number of uniques values is 722\n",
      "Number of nulls: 5\n",
      "\n",
      "tolls\n",
      "Suggested type: numerical\n",
      "tolls [ 0.   nan  2.   1.8  1.9  1.  10.   1.5]\n",
      "Number of nulls: 5\n",
      "\n",
      "extras\n",
      "Suggested type: numerical\n",
      "Number of uniques values is 109\n",
      "Number of nulls: 5\n",
      "\n",
      "trip_total\n",
      "Suggested type: numerical\n",
      "Number of uniques values is 1607\n",
      "Number of nulls: 5\n",
      "\n",
      "payment_type\n",
      "Suggested type: categorical\n",
      "payment_type ['Cash' 'Credit Card' 'Unknown' 'Mobile' 'Prcard' 'Dispute' 'No Charge']\n",
      "Number of nulls: 0\n",
      "\n",
      "company\n",
      "Suggested type: categorical\n",
      "company ['Sun Taxi' 'Top Cab Affiliation' 'Globe Taxi' 'Taxi Affiliation Services'\n",
      " 'Taxicab Insurance Agency, LLC' 'City Service' 'Flash Cab'\n",
      " 'Medallion Leasin' 'Patriot Taxi Dba Peace Taxi Associat'\n",
      " '312 Medallion Management Corp' 'Setare Inc' 'KOAM Taxi Association'\n",
      " 'Chicago Independents' '24 Seven Taxi' 'Chicago Taxicab'\n",
      " 'Blue Ribbon Taxi Association Inc.' 'Choice Taxi Association' 'U Taxicab'\n",
      " 'Taxicab Insurance Agency Llc' 'Petani Cab Corp'\n",
      " '3556 - 36214 RC Andrews Cab' '4787 - 56058 Reny Cab Co' 'Top Cab'\n",
      " 'Chicago Medallion Management' 'Metro Jet Taxi A.'\n",
      " '2733 - 74600 Benny Jona' '4053 - 40193 Adwar H. Nikola']\n",
      "Number of nulls: 0\n",
      "\n",
      "pickup_centroid_latitude\n",
      "Suggested type: numerical\n",
      "Number of uniques values is 141\n",
      "Number of nulls: 828\n",
      "\n",
      "pickup_centroid_longitude\n",
      "Suggested type: numerical\n",
      "Number of uniques values is 141\n",
      "Number of nulls: 828\n",
      "\n",
      "pickup_centroid_location\n",
      "Suggested type: categorical\n",
      "Number of uniques values is 141\n",
      "Number of nulls: 828\n",
      "\n",
      "dropoff_centroid_latitude\n",
      "Suggested type: numerical\n",
      "Number of uniques values is 163\n",
      "Number of nulls: 1128\n",
      "\n",
      "dropoff_centroid_longitude\n",
      "Suggested type: numerical\n",
      "Number of uniques values is 163\n",
      "Number of nulls: 1128\n",
      "\n",
      "dropoff_centroid__location\n",
      "Suggested type: categorical\n",
      "Number of uniques values is 164\n",
      "Number of nulls: 1128\n",
      "\n",
      "description of trip_seconds:\n",
      "count    12691.000000\n",
      "mean      1077.640533\n",
      "std       1665.194641\n",
      "min          0.000000\n",
      "1%           0.000000\n",
      "5%          13.000000\n",
      "10%        174.000000\n",
      "20%        327.000000\n",
      "50%        772.000000\n",
      "75%       1500.000000\n",
      "95%       2871.000000\n",
      "98%       3540.000000\n",
      "99%       4121.100000\n",
      "max      84568.000000\n",
      "Name: trip_seconds, dtype: float64\n",
      "% of trips within 1-60 min: 0.918412348401323\n"
     ]
    },
    {
     "data": {
      "image/png": "[encoded data removed]",
      "text/plain": [
       "<Figure size 500x500 with 1 Axes>"
      ]
     },
     "metadata": {},
     "output_type": "display_data"
    }
   ],
   "source": [
    "numerical_columns, categorical_columns = analyse_dataframe(df_raw_train, target='trip_seconds')"
   ]
  },
  {
   "cell_type": "markdown",
   "id": "10b1f92c",
   "metadata": {},
   "source": [
    "## Preprocess data"
   ]
  },
  {
   "cell_type": "code",
   "execution_count": 23,
   "id": "94d29b54",
   "metadata": {},
   "outputs": [],
   "source": [
    "def preprocess_data (df:pd.DataFrame, categorical_features:List[str], numerical_features:List[str], target:str='', verbose:bool=False):\n",
    "\n",
    "    \"\"\"\n",
    "    drop records where, trip_start_timestamp, trip_seconds are NaNs\n",
    "    drops records where trip_seconds < 60 or > 3600\n",
    "    create duration in minutes as target\n",
    "    categorical fillnans with -1\n",
    "    categorical value formatting\n",
    "    categorical to str\n",
    "    keep only categorical and numerical fetures\n",
    "    Return df and target\n",
    "    \"\"\"\n",
    "    \n",
    "    df = df[df.trip_seconds.notnull()]\n",
    "    df = df[df.trip_start_timestamp.notnull()]\n",
    "    df = df[(df.trip_seconds > 60) & (df.trip_seconds < 3600)]\n",
    "    df['duration'] = df['trip_seconds'] / 60 \n",
    "    \n",
    "    \n",
    "    for column in categorical_features:\n",
    "        if (verbose): print(f'\\nFilling {round(df[column].isna().mean()*100,2)}% of nans with -1 in column: {column}')\n",
    "        df[column].fillna(-1, inplace=True)\n",
    "        df[column] = df[column].astype('str')\n",
    "        # This will not touch the None values, only the not None types are processed\n",
    "        df[column] = df[column].str.lower().str.replace(' ', '_')\n",
    "        \n",
    "    if not target:\n",
    "        target = ['duration']\n",
    "\n",
    "    df.drop(df.columns.difference(categorical_features+numerical_features+target), axis=1, inplace=True)\n",
    "    \n",
    "    if verbose:\n",
    "        print(f'\\nfinal shape: {df.shape}')\n",
    "        print(f'\\nfinal types:\\n{df.dtypes}')\n",
    "        print(f'\\ncategorical_features: {categorical_features}')\n",
    "        print(f'\\nnumerical_features: {numerical_features}')\n",
    "        print(f'\\ntarget: {target}')\n",
    "        \n",
    "    return df[categorical_features+numerical_features], df[target]"
   ]
  },
  {
   "cell_type": "code",
   "execution_count": 24,
   "id": "ef774672",
   "metadata": {},
   "outputs": [
    {
     "name": "stdout",
     "output_type": "stream",
     "text": [
      "\n",
      "Filling 5.95% of nans with -1 in column: pickup_community_area\n",
      "\n",
      "Filling 8.27% of nans with -1 in column: dropoff_community_area\n",
      "\n",
      "final shape: (11529, 3)\n",
      "\n",
      "final types:\n",
      "pickup_community_area      object\n",
      "dropoff_community_area     object\n",
      "duration                  float64\n",
      "dtype: object\n",
      "\n",
      "categorical_features: ['pickup_community_area', 'dropoff_community_area']\n",
      "\n",
      "numerical_features: []\n",
      "\n",
      "target: ['duration']\n"
     ]
    }
   ],
   "source": [
    "df_train, y_train = preprocess_data(\n",
    "    df_raw_train,\n",
    "    categorical_features=['pickup_community_area','dropoff_community_area'],\n",
    "    numerical_features=[],\n",
    "    verbose=True\n",
    ")"
   ]
  },
  {
   "cell_type": "code",
   "execution_count": 25,
   "id": "9cf2d594",
   "metadata": {},
   "outputs": [
    {
     "name": "stdout",
     "output_type": "stream",
     "text": [
      "\n",
      "Filling 8.15% of nans with -1 in column: pickup_community_area\n",
      "\n",
      "Filling 10.25% of nans with -1 in column: dropoff_community_area\n",
      "\n",
      "final shape: (13598, 3)\n",
      "\n",
      "final types:\n",
      "pickup_community_area      object\n",
      "dropoff_community_area     object\n",
      "duration                  float64\n",
      "dtype: object\n",
      "\n",
      "categorical_features: ['pickup_community_area', 'dropoff_community_area']\n",
      "\n",
      "numerical_features: []\n",
      "\n",
      "target: ['duration']\n"
     ]
    }
   ],
   "source": [
    "df_val, y_val = preprocess_data(\n",
    "    df_raw_val,\n",
    "    categorical_features=['pickup_community_area','dropoff_community_area'],\n",
    "    numerical_features=[],\n",
    "    verbose=True\n",
    ")"
   ]
  },
  {
   "cell_type": "markdown",
   "id": "cfade7a7",
   "metadata": {},
   "source": [
    "## Prepare dictionaries based on categorial and numerial features chosen"
   ]
  },
  {
   "cell_type": "code",
   "execution_count": 26,
   "id": "7acac2ac",
   "metadata": {},
   "outputs": [],
   "source": [
    "def prepare_dictionaries(df:pd.DataFrame, categorical_features:List[str], numerical_features:List[str]):\n",
    "    dicts = df[categorical_features + numerical_features].to_dict(orient='records')\n",
    "    return dicts"
   ]
  },
  {
   "cell_type": "code",
   "execution_count": 27,
   "id": "4d4eb065",
   "metadata": {},
   "outputs": [],
   "source": [
    "train_dict = prepare_dictionaries(\n",
    "    df_train,\n",
    "    categorical_features=['pickup_community_area','dropoff_community_area'],\n",
    "    numerical_features=[]\n",
    ")\n",
    "val_dict = prepare_dictionaries(\n",
    "    df_val,\n",
    "    categorical_features=['pickup_community_area','dropoff_community_area'],\n",
    "    numerical_features=[]\n",
    ")"
   ]
  },
  {
   "cell_type": "code",
   "execution_count": 28,
   "id": "8970fcd6",
   "metadata": {},
   "outputs": [],
   "source": [
    "y_train = y_train.values\n",
    "y_val = y_val.values"
   ]
  },
  {
   "cell_type": "markdown",
   "id": "9beed415",
   "metadata": {},
   "source": [
    "## Create DictVectorizer"
   ]
  },
  {
   "cell_type": "code",
   "execution_count": 20,
   "id": "05bd7134",
   "metadata": {},
   "outputs": [],
   "source": [
    "dv = DictVectorizer()\n",
    "X_train = dv.fit_transform(train_dict)\n",
    "X_val = dv.transform(val_dict)"
   ]
  },
  {
   "cell_type": "markdown",
   "id": "64a135e0",
   "metadata": {},
   "source": [
    "## Experiment 1: Linear regression"
   ]
  },
  {
   "cell_type": "code",
   "execution_count": 78,
   "id": "7e201c78",
   "metadata": {},
   "outputs": [
    {
     "name": "stdout",
     "output_type": "stream",
     "text": [
      "rmse = 10.347\n"
     ]
    }
   ],
   "source": [
    "with mlflow.start_run():\n",
    "    \n",
    "    mlflow.set_tag(\"developer\",\"marcos\")\n",
    "    mlflow.log_param(\"train-data-path\",TRAIN_PATHFILE)\n",
    "    mlflow.log_param(\"val-data-path\",VAL_PATHFILE)\n",
    "    # Todo Log checksum of data files\n",
    "    lr = LinearRegression()\n",
    "    lr.fit(X_train, y_train)\n",
    "    y_pred = lr.predict(X_val)\n",
    "    rmse = mean_squared_error(y_pred, y_val, squared=False)\n",
    "    print(f'rmse = {rmse:.3f}')\n",
    "    mlflow.log_metric(\"val_rmse\", rmse)"
   ]
  },
  {
   "cell_type": "code",
   "execution_count": 26,
   "id": "632d4d8e",
   "metadata": {},
   "outputs": [
    {
     "name": "stderr",
     "output_type": "stream",
     "text": [
      "C:\\Users\\MARCOS\\.virtualenvs\\sources-dygYDoVu\\lib\\site-packages\\seaborn\\distributions.py:2619: FutureWarning: `distplot` is a deprecated function and will be removed in a future version. Please adapt your code to use either `displot` (a figure-level function with similar flexibility) or `histplot` (an axes-level function for histograms).\n",
      "  warnings.warn(msg, FutureWarning)\n",
      "C:\\Users\\MARCOS\\.virtualenvs\\sources-dygYDoVu\\lib\\site-packages\\seaborn\\distributions.py:2619: FutureWarning: `distplot` is a deprecated function and will be removed in a future version. Please adapt your code to use either `displot` (a figure-level function with similar flexibility) or `histplot` (an axes-level function for histograms).\n",
      "  warnings.warn(msg, FutureWarning)\n"
     ]
    },
    {
     "data": {
      "image/png": "[encoded data removed]",
      "text/plain": [
       "<Figure size 640x480 with 1 Axes>"
      ]
     },
     "metadata": {},
     "output_type": "display_data"
    }
   ],
   "source": [
    "sns.distplot(y_pred, label='predictions')\n",
    "sns.distplot(y_train, label='actualdictions')\n",
    "plt.legend()\n",
    "plt.show()"
   ]
  },
  {
   "cell_type": "markdown",
   "id": "14639e55",
   "metadata": {},
   "source": [
    "## Set of experiments with different regression models"
   ]
  },
  {
   "cell_type": "code",
   "execution_count": 52,
   "id": "97c78e43",
   "metadata": {},
   "outputs": [
    {
     "name": "stdout",
     "output_type": "stream",
     "text": [
      "mse = 10.67347030216934\n"
     ]
    }
   ],
   "source": [
    "ensemble_models = [GradientBoostingRegressor, ExtraTreesRegressor]\n",
    "basic_models = [LinearRegression, Lasso, Ridge, LinearSVR]\n",
    "model_classes = ensemble_models + basic_models\n",
    "model_params = [None, None, None, {'alpha':0.1}, None, None]\n",
    "\n",
    "basic_models = [LinearRegression]\n",
    "model_classes = basic_models\n",
    "model_params = [None]\n",
    "\n",
    "for i, model_class in enumerate(model_classes):\n",
    "\n",
    "    with mlflow.start_run():\n",
    "\n",
    "        mlflow.set_tag(\"developer\", \"marcos\")\n",
    "        mlflow.log_param(\"train-data-path\",TRAIN_PATHFILE)\n",
    "        mlflow.log_param(\"val-data-path\",VAL_PATHFILE)\n",
    "\n",
    "        if model_params[i]:\n",
    "            model = model_class(**model_params[i])\n",
    "        else:\n",
    "            model = model_class()\n",
    "            \n",
    "        if model_class in ensemble_models:\n",
    "            model.fit(X_train, y_train.ravel())\n",
    "        else:\n",
    "            model.fit(X_train, y_train)\n",
    "\n",
    "        y_pred = model.predict(X_train)\n",
    "        rmse = mean_squared_error(y_train, y_pred, squared=False)\n",
    "        mlflow.log_metric(\"val_rmse\", rmse)\n",
    "        print(f'rmse = {mse}')"
   ]
  },
  {
   "cell_type": "markdown",
   "id": "7310cb79",
   "metadata": {},
   "source": [
    "## Experiment Random Forest Regressor with Pipeline"
   ]
  },
  {
   "cell_type": "code",
   "execution_count": 53,
   "id": "26b89078",
   "metadata": {},
   "outputs": [
    {
     "name": "stderr",
     "output_type": "stream",
     "text": [
      "2022/08/25 11:11:35 WARNING mlflow.sklearn: Failed to infer model signature: Expected one of (pandas.DataFrame, numpy array, dictionary of (name -> numpy.ndarray), pyspark.sql.DataFrame) but got '<class 'list'>'\n"
     ]
    },
    {
     "name": "stdout",
     "output_type": "stream",
     "text": [
      "rmse = 9.038\n"
     ]
    }
   ],
   "source": [
    "with mlflow.start_run():\n",
    "    mlflow.set_tag(\"developer\", \"marcos\")\n",
    "    mlflow.log_param(\"train-data-path\",TRAIN_PATHFILE)\n",
    "    mlflow.log_param(\"val-data-path\",VAL_PATHFILE)\n",
    "    params = dict(max_depth=20, n_estimators=100, min_samples_leaf=10, random_state=0)\n",
    "    pipeline = make_pipeline(\n",
    "        DictVectorizer(),\n",
    "        RandomForestRegressor(**params, n_jobs=1))\n",
    "    pipeline.fit(train_dict, y_train.ravel())\n",
    "    y_pred = pipeline.predict(val_dict)\n",
    "    rmse = mean_squared_error(y_pred, y_val, squared=False)\n",
    "    print(f'rmse = {rmse:.3f}')"
   ]
  },
  {
   "cell_type": "code",
   "execution_count": 66,
   "id": "b720623b",
   "metadata": {},
   "outputs": [],
   "source": [
    "y_pred = pipeline.predict(train_dict)"
   ]
  },
  {
   "cell_type": "code",
   "execution_count": 67,
   "id": "48a3c465",
   "metadata": {},
   "outputs": [
    {
     "name": "stdout",
     "output_type": "stream",
     "text": [
      "rmse = 9.557209826556877\n"
     ]
    }
   ],
   "source": [
    "print(f'rmse = {mean_squared_error(y_pred, y_train, squared=False)}')"
   ]
  },
  {
   "cell_type": "markdown",
   "id": "53c95fc4",
   "metadata": {},
   "source": [
    "## Get the 3 best models and register them"
   ]
  },
  {
   "cell_type": "code",
   "execution_count": 61,
   "id": "0a540177",
   "metadata": {},
   "outputs": [],
   "source": [
    "client = mlflow.tracking.MlflowClient(tracking_uri=MLFLOW_TRACKING_URI)    "
   ]
  },
  {
   "cell_type": "code",
   "execution_count": 67,
   "id": "cb589bd7",
   "metadata": {},
   "outputs": [],
   "source": [
    "experiment_id = client.get_experiment_by_name(MLFLOW_EXPERIMENT_NAME).experiment_id"
   ]
  },
  {
   "cell_type": "code",
   "execution_count": 112,
   "id": "bd35ab55",
   "metadata": {},
   "outputs": [],
   "source": [
    "client.list_experiments()\n",
    "runs = client.search_runs(\n",
    "    experiment_ids = [experiment_id],\n",
    "    filter_string = '',\n",
    "    run_view_type = mlflow.entities.ViewType.ACTIVE_ONLY,\n",
    "    max_results = 3,\n",
    "    order_by = [\"metrics.val_rmse ASC\"])"
   ]
  },
  {
   "cell_type": "code",
   "execution_count": 138,
   "id": "fa4af758",
   "metadata": {},
   "outputs": [
    {
     "name": "stdout",
     "output_type": "stream",
     "text": [
      "Run id: a3f6add0c5f74de3b2fadf641fa540a1, val_rmse: 9.199\n"
     ]
    },
    {
     "name": "stderr",
     "output_type": "stream",
     "text": [
      "Registered model 'chigaco_taxi_regressor' already exists. Creating a new version of this model...\n",
      "2022/08/25 13:15:37 INFO mlflow.tracking._model_registry.client: Waiting up to 300 seconds for model version to finish creation.                     Model name: chigaco_taxi_regressor, version 11\n",
      "Created version '11' of model 'chigaco_taxi_regressor'.\n",
      "Registered model 'chigaco_taxi_regressor' already exists. Creating a new version of this model...\n"
     ]
    },
    {
     "name": "stdout",
     "output_type": "stream",
     "text": [
      "Run id: 44779e935b7e40509bec1ee542fe7b1e, val_rmse: 9.736\n"
     ]
    },
    {
     "name": "stderr",
     "output_type": "stream",
     "text": [
      "2022/08/25 13:15:40 INFO mlflow.tracking._model_registry.client: Waiting up to 300 seconds for model version to finish creation.                     Model name: chigaco_taxi_regressor, version 12\n",
      "Created version '12' of model 'chigaco_taxi_regressor'.\n",
      "Registered model 'chigaco_taxi_regressor' already exists. Creating a new version of this model...\n"
     ]
    },
    {
     "name": "stdout",
     "output_type": "stream",
     "text": [
      "Run id: c8551ed1154e4f14ba0a2bed8b62032a, val_rmse: 10.341\n"
     ]
    },
    {
     "name": "stderr",
     "output_type": "stream",
     "text": [
      "2022/08/25 13:15:44 INFO mlflow.tracking._model_registry.client: Waiting up to 300 seconds for model version to finish creation.                     Model name: chigaco_taxi_regressor, version 13\n",
      "Created version '13' of model 'chigaco_taxi_regressor'.\n"
     ]
    }
   ],
   "source": [
    "for run in runs:\n",
    "    run_id =run.info.run_id\n",
    "    print(f\"Run id: {run_id}, val_rmse: {run.data.metrics['val_rmse']:.3f}\")\n",
    "    model_version = mlflow.register_model(\n",
    "        model_uri=f\"runs:/{run_id}/model\",\n",
    "        name=MLFLOW_MODEL_NAME,\n",
    "        tags={\"estimator\": f\"{run.data.tags['estimator_name']}\"})"
   ]
  },
  {
   "cell_type": "markdown",
   "id": "f95d8afe",
   "metadata": {},
   "source": [
    "## Set to production stage the best one"
   ]
  },
  {
   "cell_type": "code",
   "execution_count": 134,
   "id": "742d98bb",
   "metadata": {},
   "outputs": [
    {
     "name": "stdout",
     "output_type": "stream",
     "text": [
      "Version: 1, stage: Production\n",
      "Version: 3, stage: None\n"
     ]
    }
   ],
   "source": [
    "latest_versions = client.get_latest_versions(name=MLFLOW_MODEL_NAME)\n",
    "for version in latest_versions:\n",
    "    print(f\"Version: {version.version}, stage: {version.current_stage}\")"
   ]
  },
  {
   "cell_type": "code",
   "execution_count": 132,
   "id": "00f00d79",
   "metadata": {},
   "outputs": [],
   "source": [
    "production_version = 1"
   ]
  },
  {
   "cell_type": "code",
   "execution_count": 133,
   "id": "0389e290",
   "metadata": {},
   "outputs": [
    {
     "data": {
      "text/plain": [
       "<ModelVersion: creation_timestamp=1661424638279, current_stage='Production', description='', last_updated_timestamp=1661424905929, name='chigaco_taxi_regressor', run_id='a3f6add0c5f74de3b2fadf641fa540a1', run_link='', source='s3://chicago-taxi-vlvljc3a/1/a3f6add0c5f74de3b2fadf641fa540a1/artifacts/model', status='READY', status_message='', tags={'estimator': 'ExtraTreesRegressor'}, user_id='', version='1'>"
      ]
     },
     "execution_count": 133,
     "metadata": {},
     "output_type": "execute_result"
    }
   ],
   "source": [
    "client.transition_model_version_stage(\n",
    "    name = MLFLOW_MODEL_NAME,\n",
    "    version = production_version,\n",
    "    stage = \"Production\",\n",
    "    archive_existing_versions = False)"
   ]
  },
  {
   "cell_type": "code",
   "execution_count": null,
   "id": "1a6e4de1",
   "metadata": {},
   "outputs": [],
   "source": []
  }
 ],
 "metadata": {
  "kernelspec": {
   "display_name": "Python 3.9.7 ('api': venv)",
   "language": "python",
   "name": "python3"
  },
  "language_info": {
   "codemirror_mode": {
    "name": "ipython",
    "version": 3
   },
   "file_extension": ".py",
   "mimetype": "text/x-python",
   "name": "python",
   "nbconvert_exporter": "python",
   "pygments_lexer": "ipython3",
   "version": "3.9.7"
  },
  "vscode": {
   "interpreter": {
    "hash": "30d95cf6e80a12c26ffaefd87f3478125a8ebf92332ca57a2fed8e0c33fe5d46"
   }
  }
 },
 "nbformat": 4,
 "nbformat_minor": 5
}
