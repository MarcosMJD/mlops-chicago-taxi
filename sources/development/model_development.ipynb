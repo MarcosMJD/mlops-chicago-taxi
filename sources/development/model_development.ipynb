{
 "cells": [
  {
   "cell_type": "markdown",
   "id": "1cb0525e",
   "metadata": {},
   "source": [
    "Use ipython kernel install --name \"name of the viertual env\" --user \n",
    "To add the kernel to jupyter and display hints and so on\n",
    "Then Select the kernel"
   ]
  },
  {
   "cell_type": "code",
   "execution_count": 60,
   "id": "1b8c31d5",
   "metadata": {},
   "outputs": [],
   "source": [
    "import datetime\n",
    "from IPython.display import display\n",
    "import matplotlib.pyplot as plt\n",
    "import seaborn as sns\n",
    "\n",
    "from typing import List\n",
    "import pandas as pd\n",
    "import numpy as np\n",
    "\n",
    "from sklearn.feature_extraction import DictVectorizer\n",
    "from sklearn.linear_model import LinearRegression, Lasso, Ridge\n",
    "from sklearn.svm import LinearSVR\n",
    "from sklearn.ensemble import RandomForestRegressor, GradientBoostingRegressor, ExtraTreesRegressor\n",
    "\n",
    "from sklearn.metrics import mean_squared_error\n",
    "\n",
    "from sklearn.pipeline import make_pipeline\n",
    "\n",
    "from datetime import datetime\n",
    "import requests\n",
    "\n",
    "import mlflow\n",
    "\n",
    "import os"
   ]
  },
  {
   "cell_type": "markdown",
   "id": "157bf3b5",
   "metadata": {},
   "source": [
    "## Setup MLFlow (external server option)"
   ]
  },
  {
   "cell_type": "code",
   "execution_count": 2,
   "id": "25c20e2c",
   "metadata": {},
   "outputs": [
    {
     "data": {
      "text/plain": [
       "'http://3.252.84.89:8080'"
      ]
     },
     "execution_count": 2,
     "metadata": {},
     "output_type": "execute_result"
    }
   ],
   "source": [
    "MLFLOW_TRACKING_URI = os.getenv(\"MLFLOW_TRACKING_URI\") or \"http://176.34.140.12/:8080\""
   ]
  },
  {
   "cell_type": "code",
   "execution_count": 3,
   "id": "a2d9cba9",
   "metadata": {},
   "outputs": [],
   "source": [
    "PROJECT_ID = os.getenv(\"PROJECT_ID\") or \"chicago_taxi\"\n",
    "MLFLOW_MODEL_NAME = os.getenv(\"MODEL_NAME\") or \"chicago_taxi\""
   ]
  },
  {
   "cell_type": "code",
   "execution_count": 4,
   "id": "d6914467",
   "metadata": {},
   "outputs": [],
   "source": [
    "MLFLOW_EXPERIMENT_NAME = \"mlflow/\" + PROJECT_ID"
   ]
  },
  {
   "cell_type": "code",
   "execution_count": 5,
   "id": "a3f6e746",
   "metadata": {},
   "outputs": [],
   "source": [
    "mlflow.set_tracking_uri(MLFLOW_TRACKING_URI)\n",
    "mlflow.set_experiment(MLFLOW_EXPERIMENT_NAME)\n",
    "mlflow.sklearn.autolog()"
   ]
  },
  {
   "cell_type": "code",
   "execution_count": 6,
   "id": "4fff996b",
   "metadata": {},
   "outputs": [
    {
     "data": {
      "text/plain": [
       "'http://3.252.84.89:8080'"
      ]
     },
     "execution_count": 6,
     "metadata": {},
     "output_type": "execute_result"
    }
   ],
   "source": [
    "mlflow.get_tracking_uri()"
   ]
  },
  {
   "cell_type": "code",
   "execution_count": 7,
   "id": "56fb25f7",
   "metadata": {},
   "outputs": [],
   "source": [
    "# Don't use this since it will start a run for this that will stay unfinished\n",
    "# mlflow.get_artifact_uri()"
   ]
  },
  {
   "cell_type": "code",
   "execution_count": 8,
   "id": "7b216897",
   "metadata": {},
   "outputs": [
    {
     "data": {
      "text/plain": [
       "'http://3.252.84.89:8080'"
      ]
     },
     "execution_count": 8,
     "metadata": {},
     "output_type": "execute_result"
    }
   ],
   "source": [
    "mlflow.get_registry_uri()"
   ]
  },
  {
   "cell_type": "markdown",
   "id": "c626f0e8",
   "metadata": {},
   "source": [
    "https://data.cityofchicago.org/Transportation/Taxi-Trips-by-Month/x3ws-m7si\n",
    "https://data.cityofchicago.org/api/views/wrvz-psew/rows.csv?query=select%20*%20where%20%60trip_start_timestamp%60%20%3E%3D%20%272022-01-01%27%20AND%20%60trip_start_timestamp%60%20%3C%20%272022-02-01%27&read_from_nbe=true&version=2.1&accessType=DOWNLOAD"
   ]
  },
  {
   "cell_type": "markdown",
   "id": "6ca98f20",
   "metadata": {},
   "source": [
    "## Set constants"
   ]
  },
  {
   "cell_type": "code",
   "execution_count": 9,
   "id": "9f2ece7d",
   "metadata": {},
   "outputs": [],
   "source": [
    "DATA_PATH = \"data/\"\n",
    "TRAIN_MONTH = 2\n",
    "VAL_MONTH = 3\n",
    "TEST_MONTH = 4\n",
    "TRAIN_SET = f\"Taxi_Trips_2022_{TRAIN_MONTH:02d}.csv\"\n",
    "VAL_SET = f\"Taxi_Trips_2022_{VAL_MONTH:02d}.csv\"\n",
    "TEST_SET = f\"Taxi_Trips_2022_{TEST_MONTH:02d}.csv\"\n",
    "TRAIN_PATHFILE = DATA_PATH + TRAIN_SET\n",
    "VAL_PATHFILE = DATA_PATH + VAL_SET\n",
    "TEST_PATHFILE = DATA_PATH + TEST_SET\n",
    "NUM_OF_DAYS = 2"
   ]
  },
  {
   "cell_type": "markdown",
   "id": "b7896fbb",
   "metadata": {},
   "source": [
    "## Download training, validation datasets"
   ]
  },
  {
   "cell_type": "code",
   "execution_count": 10,
   "id": "8fa93138",
   "metadata": {},
   "outputs": [],
   "source": [
    "def download_file(url:str, output_filename:str):\n",
    "    if output_filename == None:\n",
    "        output_filename = url.split('/')[-1]\n",
    "    with requests.get(url, stream=True) as r:\n",
    "        r.raise_for_status()\n",
    "        with open(output_filename, 'wb') as f:\n",
    "            for chunk in r.iter_content(chunk_size=8192): \n",
    "                # If you have chunk encoded response uncomment if\n",
    "                # and set chunk_size parameter to None.\n",
    "                #if chunk: \n",
    "                f.write(chunk)\n",
    "    return output_filename"
   ]
  },
  {
   "cell_type": "code",
   "execution_count": 11,
   "id": "79aa628e",
   "metadata": {},
   "outputs": [],
   "source": [
    "def download_dataset(start_date, end_date, output_filename:str):\n",
    "    \n",
    "    start_date = start_date.strftime('%Y-%m-%d')\n",
    "    end_date = end_date.strftime('%Y-%m-%d')\n",
    "    \n",
    "    uri = f\"https://data.cityofchicago.org/api/views/wrvz-psew/rows.csv?\" + \\\n",
    "    \"query=select%20*%20where%20%60trip_start_timestamp%60%20%3E%3D%20%27\" + \\\n",
    "    f\"{start_date}%27%20AND%20%60trip_start_timestamp%60%20%3C%20%27\" + \\\n",
    "    f\"{end_date}%27&read_from_nbe=true&version=2.1&accessType=DOWNLOAD\"\n",
    "    output_filename = download_file(uri, output_filename)\n",
    "\n",
    "    return output_filename"
   ]
  },
  {
   "cell_type": "code",
   "execution_count": 12,
   "id": "9f19f00b",
   "metadata": {},
   "outputs": [],
   "source": [
    " if not os.path.exists(DATA_PATH):\n",
    "        os.makedirs(DATA_PATH)"
   ]
  },
  {
   "cell_type": "code",
   "execution_count": 13,
   "id": "2490c1cc",
   "metadata": {},
   "outputs": [
    {
     "data": {
      "text/plain": [
       "'data/Taxi_Trips_2022_03.csv'"
      ]
     },
     "execution_count": 13,
     "metadata": {},
     "output_type": "execute_result"
    }
   ],
   "source": [
    "download_dataset(datetime(2022,TRAIN_MONTH,1),datetime(2022,TRAIN_MONTH,NUM_OF_DAYS), TRAIN_PATHFILE)\n",
    "download_dataset(datetime(2022,VAL_MONTH,1),datetime(2022,VAL_MONTH,NUM_OF_DAYS), VAL_PATHFILE)\n",
    "download_dataset(datetime(2022,TEST_MONTH,1),datetime(2022,TEST_MONTH,NUM_OF_DAYS), VAL_PATHFILE)"
   ]
  },
  {
   "cell_type": "markdown",
   "id": "43724d95",
   "metadata": {},
   "source": [
    "## Read datasets and convert to parket"
   ]
  },
  {
   "cell_type": "code",
   "execution_count": 14,
   "id": "7231ea8c",
   "metadata": {},
   "outputs": [],
   "source": [
    "def read_dataframe_csv(filename: str, parse_dates: List[str]=[], dtype={'Pickup Community Area':str,'Dropoff Community Area':str}):\n",
    "    df = pd.read_csv(filename, parse_dates=parse_dates, dtype=dtype)\n",
    "    df.columns = df.columns.str.lower().str.replace(' ','_')\n",
    "    output_file_name = filename.replace('csv','parquet')\n",
    "    df.to_parquet(output_file_name,engine='pyarrow',index=None)\n",
    "    return output_file_name"
   ]
  },
  {
   "cell_type": "code",
   "execution_count": 15,
   "id": "564d3d4f",
   "metadata": {},
   "outputs": [],
   "source": [
    "DATE_FIELDS = ['Trip Start Timestamp','Trip End Timestamp']\n",
    "DTYPE = {'Pickup Community Area':str,'Dropoff Community Area':str}"
   ]
  },
  {
   "cell_type": "code",
   "execution_count": 18,
   "id": "cd5a4e59",
   "metadata": {},
   "outputs": [],
   "source": [
    "train_file_name = read_dataframe_csv(filename=TRAIN_PATHFILE, parse_dates=DATE_FIELDS, dtype=DTYPE)\n",
    "df_raw_train = pd.read_parquet(train_file_name)\n",
    "df_raw_val = pd.read_parquet(read_dataframe_csv(filename=VAL_PATHFILE, parse_dates=DATE_FIELDS))\n",
    "df_raw_test = pd.read_parquet(read_dataframe_csv(filename=TEST_PATHFILE, parse_dates=DATE_FIELDS))"
   ]
  },
  {
   "cell_type": "code",
   "execution_count": 19,
   "id": "a11d857e",
   "metadata": {},
   "outputs": [
    {
     "data": {
      "text/html": [
       "<div>\n",
       "<style scoped>\n",
       "    .dataframe tbody tr th:only-of-type {\n",
       "        vertical-align: middle;\n",
       "    }\n",
       "\n",
       "    .dataframe tbody tr th {\n",
       "        vertical-align: top;\n",
       "    }\n",
       "\n",
       "    .dataframe thead th {\n",
       "        text-align: right;\n",
       "    }\n",
       "</style>\n",
       "<table border=\"1\" class=\"dataframe\">\n",
       "  <thead>\n",
       "    <tr style=\"text-align: right;\">\n",
       "      <th></th>\n",
       "      <th>trip_id</th>\n",
       "      <th>taxi_id</th>\n",
       "      <th>trip_start_timestamp</th>\n",
       "      <th>trip_end_timestamp</th>\n",
       "      <th>trip_seconds</th>\n",
       "      <th>trip_miles</th>\n",
       "      <th>pickup_census_tract</th>\n",
       "      <th>dropoff_census_tract</th>\n",
       "      <th>pickup_community_area</th>\n",
       "      <th>dropoff_community_area</th>\n",
       "      <th>...</th>\n",
       "      <th>extras</th>\n",
       "      <th>trip_total</th>\n",
       "      <th>payment_type</th>\n",
       "      <th>company</th>\n",
       "      <th>pickup_centroid_latitude</th>\n",
       "      <th>pickup_centroid_longitude</th>\n",
       "      <th>pickup_centroid_location</th>\n",
       "      <th>dropoff_centroid_latitude</th>\n",
       "      <th>dropoff_centroid_longitude</th>\n",
       "      <th>dropoff_centroid__location</th>\n",
       "    </tr>\n",
       "  </thead>\n",
       "  <tbody>\n",
       "    <tr>\n",
       "      <th>0</th>\n",
       "      <td>0559c3390e688c3a87b359831081fe53f9518658</td>\n",
       "      <td>99b1203df31b26f1c372e57926d731514ae839dbb485f3...</td>\n",
       "      <td>2022-02-01</td>\n",
       "      <td>2022-02-01 00:00:00</td>\n",
       "      <td>540.0</td>\n",
       "      <td>1.4</td>\n",
       "      <td>NaN</td>\n",
       "      <td>NaN</td>\n",
       "      <td>28</td>\n",
       "      <td>32</td>\n",
       "      <td>...</td>\n",
       "      <td>0.0</td>\n",
       "      <td>9.75</td>\n",
       "      <td>Credit Card</td>\n",
       "      <td>Top Cab Affiliation</td>\n",
       "      <td>41.874005</td>\n",
       "      <td>-87.663518</td>\n",
       "      <td>POINT (-87.6635175498 41.874005383)</td>\n",
       "      <td>41.878866</td>\n",
       "      <td>-87.625192</td>\n",
       "      <td>POINT (-87.6251921424 41.8788655841)</td>\n",
       "    </tr>\n",
       "    <tr>\n",
       "      <th>1</th>\n",
       "      <td>0fa79ae1034f0c7feb446f8e7df4d3a99210d396</td>\n",
       "      <td>0a2412f478181908974ce4f03ac52607833c0a92f3c4ff...</td>\n",
       "      <td>2022-02-01</td>\n",
       "      <td>2022-02-01 00:00:00</td>\n",
       "      <td>33.0</td>\n",
       "      <td>0.0</td>\n",
       "      <td>NaN</td>\n",
       "      <td>NaN</td>\n",
       "      <td>8</td>\n",
       "      <td>8</td>\n",
       "      <td>...</td>\n",
       "      <td>0.0</td>\n",
       "      <td>24.60</td>\n",
       "      <td>Credit Card</td>\n",
       "      <td>Globe Taxi</td>\n",
       "      <td>41.899602</td>\n",
       "      <td>-87.633308</td>\n",
       "      <td>POINT (-87.6333080367 41.899602111)</td>\n",
       "      <td>41.899602</td>\n",
       "      <td>-87.633308</td>\n",
       "      <td>POINT (-87.6333080367 41.899602111)</td>\n",
       "    </tr>\n",
       "    <tr>\n",
       "      <th>2</th>\n",
       "      <td>13efae785f8e9bfac7a1d53a38ff11c5b89cd97d</td>\n",
       "      <td>f1c4fb891f4812fb2865e801d2185b401283b34401b71f...</td>\n",
       "      <td>2022-02-01</td>\n",
       "      <td>2022-02-01 00:15:00</td>\n",
       "      <td>660.0</td>\n",
       "      <td>0.5</td>\n",
       "      <td>NaN</td>\n",
       "      <td>NaN</td>\n",
       "      <td>8</td>\n",
       "      <td>11</td>\n",
       "      <td>...</td>\n",
       "      <td>0.0</td>\n",
       "      <td>24.75</td>\n",
       "      <td>Unknown</td>\n",
       "      <td>Taxi Affiliation Services</td>\n",
       "      <td>41.899602</td>\n",
       "      <td>-87.633308</td>\n",
       "      <td>POINT (-87.6333080367 41.899602111)</td>\n",
       "      <td>41.978830</td>\n",
       "      <td>-87.771167</td>\n",
       "      <td>POINT (-87.771166703 41.9788295262)</td>\n",
       "    </tr>\n",
       "    <tr>\n",
       "      <th>3</th>\n",
       "      <td>21b691983aee6b1d93cae2afffe147bce834a546</td>\n",
       "      <td>19ccfdbec42380e8beda815e0a69bd92aaec6bc3982643...</td>\n",
       "      <td>2022-02-01</td>\n",
       "      <td>2022-02-01 00:15:00</td>\n",
       "      <td>1680.0</td>\n",
       "      <td>7.5</td>\n",
       "      <td>NaN</td>\n",
       "      <td>NaN</td>\n",
       "      <td>76</td>\n",
       "      <td>3</td>\n",
       "      <td>...</td>\n",
       "      <td>5.0</td>\n",
       "      <td>45.75</td>\n",
       "      <td>Cash</td>\n",
       "      <td>Taxicab Insurance Agency, LLC</td>\n",
       "      <td>41.980264</td>\n",
       "      <td>-87.913625</td>\n",
       "      <td>POINT (-87.913624596 41.9802643146)</td>\n",
       "      <td>41.965812</td>\n",
       "      <td>-87.655879</td>\n",
       "      <td>POINT (-87.6558787862 41.96581197)</td>\n",
       "    </tr>\n",
       "    <tr>\n",
       "      <th>4</th>\n",
       "      <td>4256163d5455ca8fb6408bc1a9d614e5c135cb42</td>\n",
       "      <td>8942c504d38b52d769ac1800e8c7dde070687626dcae14...</td>\n",
       "      <td>2022-02-01</td>\n",
       "      <td>2022-02-01 00:00:00</td>\n",
       "      <td>660.0</td>\n",
       "      <td>0.1</td>\n",
       "      <td>NaN</td>\n",
       "      <td>NaN</td>\n",
       "      <td>32</td>\n",
       "      <td>8</td>\n",
       "      <td>...</td>\n",
       "      <td>0.0</td>\n",
       "      <td>9.75</td>\n",
       "      <td>Credit Card</td>\n",
       "      <td>Taxi Affiliation Services</td>\n",
       "      <td>41.878866</td>\n",
       "      <td>-87.625192</td>\n",
       "      <td>POINT (-87.6251921424 41.8788655841)</td>\n",
       "      <td>41.899602</td>\n",
       "      <td>-87.633308</td>\n",
       "      <td>POINT (-87.6333080367 41.899602111)</td>\n",
       "    </tr>\n",
       "  </tbody>\n",
       "</table>\n",
       "<p>5 rows × 23 columns</p>\n",
       "</div>"
      ],
      "text/plain": [
       "                                    trip_id  \\\n",
       "0  0559c3390e688c3a87b359831081fe53f9518658   \n",
       "1  0fa79ae1034f0c7feb446f8e7df4d3a99210d396   \n",
       "2  13efae785f8e9bfac7a1d53a38ff11c5b89cd97d   \n",
       "3  21b691983aee6b1d93cae2afffe147bce834a546   \n",
       "4  4256163d5455ca8fb6408bc1a9d614e5c135cb42   \n",
       "\n",
       "                                             taxi_id trip_start_timestamp  \\\n",
       "0  99b1203df31b26f1c372e57926d731514ae839dbb485f3...           2022-02-01   \n",
       "1  0a2412f478181908974ce4f03ac52607833c0a92f3c4ff...           2022-02-01   \n",
       "2  f1c4fb891f4812fb2865e801d2185b401283b34401b71f...           2022-02-01   \n",
       "3  19ccfdbec42380e8beda815e0a69bd92aaec6bc3982643...           2022-02-01   \n",
       "4  8942c504d38b52d769ac1800e8c7dde070687626dcae14...           2022-02-01   \n",
       "\n",
       "   trip_end_timestamp  trip_seconds  trip_miles  pickup_census_tract  \\\n",
       "0 2022-02-01 00:00:00         540.0         1.4                  NaN   \n",
       "1 2022-02-01 00:00:00          33.0         0.0                  NaN   \n",
       "2 2022-02-01 00:15:00         660.0         0.5                  NaN   \n",
       "3 2022-02-01 00:15:00        1680.0         7.5                  NaN   \n",
       "4 2022-02-01 00:00:00         660.0         0.1                  NaN   \n",
       "\n",
       "   dropoff_census_tract pickup_community_area dropoff_community_area  ...  \\\n",
       "0                   NaN                    28                     32  ...   \n",
       "1                   NaN                     8                      8  ...   \n",
       "2                   NaN                     8                     11  ...   \n",
       "3                   NaN                    76                      3  ...   \n",
       "4                   NaN                    32                      8  ...   \n",
       "\n",
       "   extras  trip_total  payment_type                        company  \\\n",
       "0     0.0        9.75   Credit Card            Top Cab Affiliation   \n",
       "1     0.0       24.60   Credit Card                     Globe Taxi   \n",
       "2     0.0       24.75       Unknown      Taxi Affiliation Services   \n",
       "3     5.0       45.75          Cash  Taxicab Insurance Agency, LLC   \n",
       "4     0.0        9.75   Credit Card      Taxi Affiliation Services   \n",
       "\n",
       "   pickup_centroid_latitude pickup_centroid_longitude  \\\n",
       "0                 41.874005                -87.663518   \n",
       "1                 41.899602                -87.633308   \n",
       "2                 41.899602                -87.633308   \n",
       "3                 41.980264                -87.913625   \n",
       "4                 41.878866                -87.625192   \n",
       "\n",
       "               pickup_centroid_location  dropoff_centroid_latitude  \\\n",
       "0   POINT (-87.6635175498 41.874005383)                  41.878866   \n",
       "1   POINT (-87.6333080367 41.899602111)                  41.899602   \n",
       "2   POINT (-87.6333080367 41.899602111)                  41.978830   \n",
       "3   POINT (-87.913624596 41.9802643146)                  41.965812   \n",
       "4  POINT (-87.6251921424 41.8788655841)                  41.899602   \n",
       "\n",
       "   dropoff_centroid_longitude            dropoff_centroid__location  \n",
       "0                  -87.625192  POINT (-87.6251921424 41.8788655841)  \n",
       "1                  -87.633308   POINT (-87.6333080367 41.899602111)  \n",
       "2                  -87.771167   POINT (-87.771166703 41.9788295262)  \n",
       "3                  -87.655879    POINT (-87.6558787862 41.96581197)  \n",
       "4                  -87.633308   POINT (-87.6333080367 41.899602111)  \n",
       "\n",
       "[5 rows x 23 columns]"
      ]
     },
     "execution_count": 19,
     "metadata": {},
     "output_type": "execute_result"
    }
   ],
   "source": [
    "df_raw_train.head()"
   ]
  },
  {
   "cell_type": "markdown",
   "id": "372f06eb",
   "metadata": {},
   "source": [
    "## Analyse a dataset to select features and further process to be done"
   ]
  },
  {
   "cell_type": "code",
   "execution_count": 20,
   "id": "8a82a162",
   "metadata": {},
   "outputs": [],
   "source": [
    "def analyse_dataframe(df: pd.DataFrame, target:str =None, verbose=False):\n",
    "    \n",
    "    print(f'Analysing dataset...')\n",
    "    print(f'shape: {df.shape}')\n",
    "    print(f'types:\\n{df.dtypes}')\n",
    "    df.head().T\n",
    "    \n",
    "    categorical_columns = list(df.dtypes[df.dtypes == 'object'].index)\n",
    "    numerical_columns = list(df.dtypes[df.dtypes != 'object'].index)\n",
    "    \n",
    "    for column in df.columns:\n",
    "        print('\\n' + column)\n",
    "        if column in categorical_columns:\n",
    "            print('Suggested type: categorical')\n",
    "        else:\n",
    "            print('Suggested type: numerical')\n",
    "        nuniques = df[column].nunique()\n",
    "        if nuniques < 50:\n",
    "            print(column, df[column].unique())\n",
    "        else:\n",
    "            print(f'Number of uniques values is {nuniques}')\n",
    "        \n",
    "        print(f'Number of nulls: {df[column].isnull().sum()}')\n",
    "    \n",
    "    sns.displot(df[target], kind='kde')\n",
    "    \n",
    "    print(f'\\ndescription of {target}:')\n",
    "    print(df[target].describe(percentiles=[0.01, 0.05, 0.1, 0.2, 0.75, 0.95, 0.98, 0.99]))\n",
    "    print(f'% of trips within 1-60 min: {((df[target] >= 60) & (df[target]<=60*60)).mean()}')\n",
    "    \n",
    "    return numerical_columns, categorical_columns"
   ]
  },
  {
   "cell_type": "code",
   "execution_count": 21,
   "id": "c69ebcaa",
   "metadata": {},
   "outputs": [
    {
     "name": "stdout",
     "output_type": "stream",
     "text": [
      "Analysing dataset...\n",
      "shape: (12698, 23)\n",
      "types:\n",
      "trip_id                               object\n",
      "taxi_id                               object\n",
      "trip_start_timestamp          datetime64[ns]\n",
      "trip_end_timestamp            datetime64[ns]\n",
      "trip_seconds                         float64\n",
      "trip_miles                           float64\n",
      "pickup_census_tract                  float64\n",
      "dropoff_census_tract                 float64\n",
      "pickup_community_area                 object\n",
      "dropoff_community_area                object\n",
      "fare                                 float64\n",
      "tips                                 float64\n",
      "tolls                                float64\n",
      "extras                               float64\n",
      "trip_total                           float64\n",
      "payment_type                          object\n",
      "company                               object\n",
      "pickup_centroid_latitude             float64\n",
      "pickup_centroid_longitude            float64\n",
      "pickup_centroid_location              object\n",
      "dropoff_centroid_latitude            float64\n",
      "dropoff_centroid_longitude           float64\n",
      "dropoff_centroid__location            object\n",
      "dtype: object\n",
      "\n",
      "trip_id\n",
      "Suggested type: categorical\n",
      "Number of uniques values is 12698\n",
      "Number of nulls: 0\n",
      "\n",
      "taxi_id\n",
      "Suggested type: categorical\n",
      "Number of uniques values is 1487\n",
      "Number of nulls: 3\n",
      "\n",
      "trip_start_timestamp\n",
      "Suggested type: numerical\n",
      "Number of uniques values is 96\n",
      "Number of nulls: 0\n",
      "\n",
      "trip_end_timestamp\n",
      "Suggested type: numerical\n",
      "Number of uniques values is 110\n",
      "Number of nulls: 2\n",
      "\n",
      "trip_seconds\n",
      "Suggested type: numerical\n",
      "Number of uniques values is 2642\n",
      "Number of nulls: 7\n",
      "\n",
      "trip_miles\n",
      "Suggested type: numerical\n",
      "Number of uniques values is 1862\n",
      "Number of nulls: 1\n",
      "\n",
      "pickup_census_tract\n",
      "Suggested type: numerical\n",
      "Number of uniques values is 66\n",
      "Number of nulls: 9093\n",
      "\n",
      "dropoff_census_tract\n",
      "Suggested type: numerical\n",
      "Number of uniques values is 91\n",
      "Number of nulls: 9137\n",
      "\n",
      "pickup_community_area\n",
      "Suggested type: categorical\n",
      "Number of uniques values is 77\n",
      "Number of nulls: 828\n",
      "\n",
      "dropoff_community_area\n",
      "Suggested type: categorical\n",
      "Number of uniques values is 77\n",
      "Number of nulls: 1154\n",
      "\n",
      "fare\n",
      "Suggested type: numerical\n",
      "Number of uniques values is 933\n",
      "Number of nulls: 5\n",
      "\n",
      "tips\n",
      "Suggested type: numerical\n",
      "Number of uniques values is 722\n",
      "Number of nulls: 5\n",
      "\n",
      "tolls\n",
      "Suggested type: numerical\n",
      "tolls [ 0.   nan  2.   1.8  1.9  1.  10.   1.5]\n",
      "Number of nulls: 5\n",
      "\n",
      "extras\n",
      "Suggested type: numerical\n",
      "Number of uniques values is 109\n",
      "Number of nulls: 5\n",
      "\n",
      "trip_total\n",
      "Suggested type: numerical\n",
      "Number of uniques values is 1607\n",
      "Number of nulls: 5\n",
      "\n",
      "payment_type\n",
      "Suggested type: categorical\n",
      "payment_type ['Credit Card' 'Unknown' 'Cash' 'Prcard' 'Mobile' 'Dispute' 'No Charge']\n",
      "Number of nulls: 0\n",
      "\n",
      "company\n",
      "Suggested type: categorical\n",
      "company ['Top Cab Affiliation' 'Globe Taxi' 'Taxi Affiliation Services'\n",
      " 'Taxicab Insurance Agency, LLC' 'Sun Taxi' 'City Service' 'Flash Cab'\n",
      " 'Medallion Leasin' 'Patriot Taxi Dba Peace Taxi Associat'\n",
      " '312 Medallion Management Corp' 'Setare Inc' 'KOAM Taxi Association'\n",
      " 'Chicago Independents' '24 Seven Taxi' 'Chicago Taxicab'\n",
      " 'Blue Ribbon Taxi Association Inc.' 'Choice Taxi Association' 'U Taxicab'\n",
      " 'Taxicab Insurance Agency Llc' 'Petani Cab Corp'\n",
      " '3556 - 36214 RC Andrews Cab' '4787 - 56058 Reny Cab Co' 'Top Cab'\n",
      " 'Chicago Medallion Management' 'Metro Jet Taxi A.'\n",
      " '2733 - 74600 Benny Jona' '4053 - 40193 Adwar H. Nikola']\n",
      "Number of nulls: 0\n",
      "\n",
      "pickup_centroid_latitude\n",
      "Suggested type: numerical\n",
      "Number of uniques values is 141\n",
      "Number of nulls: 828\n",
      "\n",
      "pickup_centroid_longitude\n",
      "Suggested type: numerical\n",
      "Number of uniques values is 141\n",
      "Number of nulls: 828\n",
      "\n",
      "pickup_centroid_location\n",
      "Suggested type: categorical\n",
      "Number of uniques values is 141\n",
      "Number of nulls: 828\n",
      "\n",
      "dropoff_centroid_latitude\n",
      "Suggested type: numerical\n",
      "Number of uniques values is 163\n",
      "Number of nulls: 1128\n",
      "\n",
      "dropoff_centroid_longitude\n",
      "Suggested type: numerical\n",
      "Number of uniques values is 163\n",
      "Number of nulls: 1128\n",
      "\n",
      "dropoff_centroid__location\n",
      "Suggested type: categorical\n",
      "Number of uniques values is 164\n",
      "Number of nulls: 1128\n",
      "\n",
      "description of trip_seconds:\n",
      "count    12691.000000\n",
      "mean      1077.640533\n",
      "std       1665.194641\n",
      "min          0.000000\n",
      "1%           0.000000\n",
      "5%          13.000000\n",
      "10%        174.000000\n",
      "20%        327.000000\n",
      "50%        772.000000\n",
      "75%       1500.000000\n",
      "95%       2871.000000\n",
      "98%       3540.000000\n",
      "99%       4121.100000\n",
      "max      84568.000000\n",
      "Name: trip_seconds, dtype: float64\n",
      "% of trips within 1-60 min: 0.918412348401323\n"
     ]
    },
    {
     "data": {
      "image/png": "[encoded data removed]",
      "text/plain": [
       "<Figure size 360x360 with 1 Axes>"
      ]
     },
     "metadata": {
      "needs_background": "light"
     },
     "output_type": "display_data"
    }
   ],
   "source": [
    "numerical_columns, categorical_columns = analyse_dataframe(df_raw_train, target='trip_seconds')"
   ]
  },
  {
   "cell_type": "markdown",
   "id": "10b1f92c",
   "metadata": {},
   "source": [
    "## Preprocess data"
   ]
  },
  {
   "cell_type": "code",
   "execution_count": 22,
   "id": "94d29b54",
   "metadata": {},
   "outputs": [],
   "source": [
    "def preprocess_data (df:pd.DataFrame, categorical_features:List[str], numerical_features:List[str], verbose:bool=False):\n",
    "\n",
    "    \"\"\"\n",
    "    drop records where, trip_start_timestamp, trip_seconds are NaNs\n",
    "    drops records where trip_seconds < 60 or > 3600\n",
    "    create duration in minutes as target\n",
    "    categorical fillnans with -1\n",
    "    categorical value formatting\n",
    "    categorical to str\n",
    "    keep only categorical and numerical fetures\n",
    "    Return df and target\n",
    "    \"\"\"\n",
    "    \n",
    "    df = df[df.trip_seconds.notnull()]\n",
    "    df = df[df.trip_start_timestamp.notnull()]\n",
    "    df = df[(df.trip_seconds > 60) & (df.trip_seconds < 3600)]\n",
    "    df['duration'] = df['trip_seconds'] / 60 \n",
    "    \n",
    "    \n",
    "    for column in categorical_features:\n",
    "        if (verbose): print(f'\\nFilling {round(df[column].isna().mean()*100,2)}% of nans with -1 in column: {column}')\n",
    "        df[column].fillna(-1, inplace=True)\n",
    "        df[column] = df[column].astype('str')\n",
    "        # This will not touch the None values, only the not None types are processed\n",
    "        df[column] = df[column].str.lower().str.replace(' ', '_')\n",
    "        \n",
    "    target = ['duration']\n",
    "\n",
    "    df.drop(df.columns.difference(categorical_features+numerical_features+target), axis=1, inplace=True)\n",
    "    \n",
    "    if verbose:\n",
    "        print(f'\\nfinal shape: {df.shape}')\n",
    "        print(f'\\nfinal types:\\n{df.dtypes}')\n",
    "        print(f'\\ncategorical_features: {categorical_features}')\n",
    "        print(f'\\nnumerical_features: {numerical_features}')\n",
    "        print(f'\\ntarget: {target}')\n",
    "        \n",
    "    return df[categorical_features+numerical_features], df[target]"
   ]
  },
  {
   "cell_type": "code",
   "execution_count": 103,
   "id": "ef774672",
   "metadata": {},
   "outputs": [
    {
     "name": "stdout",
     "output_type": "stream",
     "text": [
      "\n",
      "Filling 5.95% of nans with -1 in column: pickup_community_area\n",
      "\n",
      "Filling 8.27% of nans with -1 in column: dropoff_community_area\n",
      "\n",
      "final shape: (11529, 3)\n",
      "\n",
      "final types:\n",
      "pickup_community_area      object\n",
      "dropoff_community_area     object\n",
      "duration                  float64\n",
      "dtype: object\n",
      "\n",
      "categorical_features: ['pickup_community_area', 'dropoff_community_area']\n",
      "\n",
      "numerical_features: []\n",
      "\n",
      "target: ['duration']\n"
     ]
    }
   ],
   "source": [
    "df_train, y_train = preprocess_data(\n",
    "    df_raw_train,\n",
    "    categorical_features=['pickup_community_area','dropoff_community_area'],\n",
    "    numerical_features=[],\n",
    "    verbose=True\n",
    ")"
   ]
  },
  {
   "cell_type": "code",
   "execution_count": 104,
   "id": "9cf2d594",
   "metadata": {},
   "outputs": [
    {
     "name": "stdout",
     "output_type": "stream",
     "text": [
      "\n",
      "Filling 6.91% of nans with -1 in column: pickup_community_area\n",
      "\n",
      "Filling 9.61% of nans with -1 in column: dropoff_community_area\n",
      "\n",
      "final shape: (17870, 3)\n",
      "\n",
      "final types:\n",
      "pickup_community_area      object\n",
      "dropoff_community_area     object\n",
      "duration                  float64\n",
      "dtype: object\n",
      "\n",
      "categorical_features: ['pickup_community_area', 'dropoff_community_area']\n",
      "\n",
      "numerical_features: []\n",
      "\n",
      "target: ['duration']\n"
     ]
    }
   ],
   "source": [
    "df_val, y_val = preprocess_data(\n",
    "    df_raw_val,\n",
    "    categorical_features=['pickup_community_area','dropoff_community_area'],\n",
    "    numerical_features=[],\n",
    "    verbose=True\n",
    ")"
   ]
  },
  {
   "cell_type": "code",
   "execution_count": 105,
   "id": "386d5721",
   "metadata": {},
   "outputs": [
    {
     "name": "stdout",
     "output_type": "stream",
     "text": [
      "\n",
      "Filling 6.91% of nans with -1 in column: pickup_community_area\n",
      "\n",
      "Filling 9.61% of nans with -1 in column: dropoff_community_area\n",
      "\n",
      "final shape: (17870, 3)\n",
      "\n",
      "final types:\n",
      "pickup_community_area      object\n",
      "dropoff_community_area     object\n",
      "duration                  float64\n",
      "dtype: object\n",
      "\n",
      "categorical_features: ['pickup_community_area', 'dropoff_community_area']\n",
      "\n",
      "numerical_features: []\n",
      "\n",
      "target: ['duration']\n"
     ]
    }
   ],
   "source": [
    "df_test, y_test = preprocess_data(\n",
    "    df_raw_test,\n",
    "    categorical_features=['pickup_community_area','dropoff_community_area'],\n",
    "    numerical_features=[],\n",
    "    verbose=True\n",
    ")"
   ]
  },
  {
   "cell_type": "markdown",
   "id": "cfade7a7",
   "metadata": {},
   "source": [
    "## Prepare dictionaries based on categorial and numerial features chosen"
   ]
  },
  {
   "cell_type": "code",
   "execution_count": 106,
   "id": "7acac2ac",
   "metadata": {},
   "outputs": [],
   "source": [
    "def prepare_dictionaries(df:pd.DataFrame, categorical_features:List[str], numerical_features:List[str]):\n",
    "    dicts = df[categorical_features + numerical_features].to_dict(orient='records')\n",
    "    return dicts"
   ]
  },
  {
   "cell_type": "code",
   "execution_count": 110,
   "id": "4d4eb065",
   "metadata": {},
   "outputs": [],
   "source": [
    "train_dict = prepare_dictionaries(\n",
    "    df_train,\n",
    "    categorical_features=['pickup_community_area','dropoff_community_area'],\n",
    "    numerical_features=[]\n",
    ")\n",
    "val_dict = prepare_dictionaries(\n",
    "    df_val,\n",
    "    categorical_features=['pickup_community_area','dropoff_community_area'],\n",
    "    numerical_features=[]\n",
    ")\n",
    "test_dict = prepare_dictionaries(\n",
    "    df_test,\n",
    "    categorical_features=['pickup_community_area','dropoff_community_area'],\n",
    "    numerical_features=[]\n",
    ")"
   ]
  },
  {
   "cell_type": "code",
   "execution_count": 108,
   "id": "8970fcd6",
   "metadata": {},
   "outputs": [],
   "source": [
    "y_train = y_train.values\n",
    "y_val = y_val.values\n",
    "y_test = y_test.values"
   ]
  },
  {
   "cell_type": "markdown",
   "id": "9beed415",
   "metadata": {},
   "source": [
    "## Create DictVectorizer"
   ]
  },
  {
   "cell_type": "code",
   "execution_count": 111,
   "id": "05bd7134",
   "metadata": {},
   "outputs": [],
   "source": [
    "dv = DictVectorizer()\n",
    "X_train = dv.fit_transform(train_dict)\n",
    "X_val = dv.transform(val_dict)\n",
    "X_test = dv.transform(test_dict)"
   ]
  },
  {
   "cell_type": "markdown",
   "id": "64a135e0",
   "metadata": {},
   "source": [
    "## Experiment 1: Linear regression"
   ]
  },
  {
   "cell_type": "code",
   "execution_count": 29,
   "id": "7e201c78",
   "metadata": {},
   "outputs": [
    {
     "name": "stdout",
     "output_type": "stream",
     "text": [
      "rmse = 10.020\n"
     ]
    }
   ],
   "source": [
    "with mlflow.start_run():\n",
    "    \n",
    "    mlflow.set_tag(\"developer\",\"marcos\")\n",
    "    mlflow.log_param(\"train-data-path\",TRAIN_PATHFILE)\n",
    "    mlflow.log_param(\"val-data-path\",VAL_PATHFILE)\n",
    "    # Todo Log checksum of data files\n",
    "    lr = LinearRegression()\n",
    "    lr.fit(X_train, y_train)\n",
    "    y_pred = lr.predict(X_val)\n",
    "    rmse = mean_squared_error(y_pred, y_val, squared=False)\n",
    "    print(f'rmse = {rmse:.3f}')\n",
    "    mlflow.log_metric(\"val_rmse\", rmse)"
   ]
  },
  {
   "cell_type": "code",
   "execution_count": 30,
   "id": "d61e863b",
   "metadata": {},
   "outputs": [
    {
     "name": "stderr",
     "output_type": "stream",
     "text": [
      "2022/09/19 16:05:03 INFO mlflow.utils.autologging_utils: Created MLflow autologging run with ID 'aabc2609b8b24e938ee83634ac1b5ceb', which will track hyperparameters, performance metrics, model artifacts, and lineage information for the current sklearn workflow\n"
     ]
    },
    {
     "name": "stdout",
     "output_type": "stream",
     "text": [
      "Sample number 50:   (0, 1)\t1.0\n",
      "  (0, 83)\t1.0 => [29.7125601]\n"
     ]
    }
   ],
   "source": [
    "lr = LinearRegression()\n",
    "lr.fit(X_train, y_train)\n",
    "y_pred = lr.predict(X_val)\n",
    "print(f\"Sample number 50: {X_train[50]} => {y_pred[50]}\")"
   ]
  },
  {
   "cell_type": "code",
   "execution_count": 31,
   "id": "fa5120e9",
   "metadata": {},
   "outputs": [
    {
     "data": {
      "text/plain": [
       "<1x156 sparse matrix of type '<class 'numpy.float64'>'\n",
       "\twith 2 stored elements in Compressed Sparse Row format>"
      ]
     },
     "execution_count": 31,
     "metadata": {},
     "output_type": "execute_result"
    }
   ],
   "source": [
    "X_train[50]"
   ]
  },
  {
   "cell_type": "code",
   "execution_count": 32,
   "id": "632d4d8e",
   "metadata": {},
   "outputs": [
    {
     "name": "stderr",
     "output_type": "stream",
     "text": [
      "C:\\Users\\MARCOS\\anaconda3\\lib\\site-packages\\seaborn\\distributions.py:2619: FutureWarning: `distplot` is a deprecated function and will be removed in a future version. Please adapt your code to use either `displot` (a figure-level function with similar flexibility) or `histplot` (an axes-level function for histograms).\n",
      "  warnings.warn(msg, FutureWarning)\n",
      "C:\\Users\\MARCOS\\anaconda3\\lib\\site-packages\\seaborn\\distributions.py:2619: FutureWarning: `distplot` is a deprecated function and will be removed in a future version. Please adapt your code to use either `displot` (a figure-level function with similar flexibility) or `histplot` (an axes-level function for histograms).\n",
      "  warnings.warn(msg, FutureWarning)\n"
     ]
    },
    {
     "data": {
      "image/png": "[encoded data removed]",
      "text/plain": [
       "<Figure size 432x288 with 1 Axes>"
      ]
     },
     "metadata": {
      "needs_background": "light"
     },
     "output_type": "display_data"
    }
   ],
   "source": [
    "sns.distplot(y_pred, label='predictions')\n",
    "sns.distplot(y_train, label='actualdictions')\n",
    "plt.legend()\n",
    "plt.show()"
   ]
  },
  {
   "cell_type": "markdown",
   "id": "14639e55",
   "metadata": {},
   "source": [
    "## Set of experiments with different regression models"
   ]
  },
  {
   "cell_type": "code",
   "execution_count": 73,
   "id": "10f52ae4",
   "metadata": {},
   "outputs": [],
   "source": [
    "now = datetime.now().timestamp()*1000"
   ]
  },
  {
   "cell_type": "code",
   "execution_count": 74,
   "id": "97c78e43",
   "metadata": {},
   "outputs": [
    {
     "name": "stdout",
     "output_type": "stream",
     "text": [
      "<class 'sklearn.ensemble._gb.GradientBoostingRegressor'>\n",
      "rmse = 10.231558880512893\n",
      "<class 'sklearn.ensemble._forest.ExtraTreesRegressor'>\n",
      "rmse = 7.972721816627162\n",
      "<class 'sklearn.linear_model._base.LinearRegression'>\n",
      "rmse = 10.673470290475867\n",
      "<class 'sklearn.linear_model._coordinate_descent.Lasso'>\n",
      "rmse = 11.208331487681187\n",
      "<class 'sklearn.linear_model._ridge.Ridge'>\n",
      "rmse = 10.67485786657217\n",
      "<class 'sklearn.svm._classes.LinearSVR'>\n",
      "rmse = 10.891392701614118\n"
     ]
    }
   ],
   "source": [
    "ensemble_models = [GradientBoostingRegressor, ExtraTreesRegressor]\n",
    "basic_models = [LinearRegression, Lasso, Ridge]\n",
    "svm_models = [LinearSVR]\n",
    "model_classes = ensemble_models + basic_models + svm_models\n",
    "model_params = [None, None, None, {'alpha': 0.1}, None, None]\n",
    "\n",
    "for i, model_class in enumerate(model_classes):\n",
    "\n",
    "    with mlflow.start_run():\n",
    "        \n",
    "        print(model_class)\n",
    "        mlflow.set_tag(\"developer\", \"marcos\")\n",
    "        mlflow.log_param(\"train-data-path\",TRAIN_PATHFILE)\n",
    "        mlflow.log_param(\"val-data-path\",VAL_PATHFILE)\n",
    "\n",
    "        if model_params[i]:\n",
    "            model = model_class(**model_params[i])\n",
    "        else:\n",
    "            model = model_class()\n",
    "            \n",
    "        if model_class in ensemble_models+svm_models:\n",
    "            model.fit(X_train, y_train.ravel())\n",
    "        else:\n",
    "            model.fit(X_train, y_train)\n",
    "\n",
    "        y_pred = model.predict(X_val)\n",
    "        rmse = mean_squared_error(y_val, y_pred, squared=False)\n",
    "        mlflow.log_metric(\"val_rmse\", rmse)\n",
    "        print(f'rmse = {rmse}')"
   ]
  },
  {
   "cell_type": "markdown",
   "id": "7310cb79",
   "metadata": {},
   "source": [
    "## Experiment Random Forest Regressor with Pipeline"
   ]
  },
  {
   "cell_type": "code",
   "execution_count": 41,
   "id": "26b89078",
   "metadata": {},
   "outputs": [
    {
     "name": "stderr",
     "output_type": "stream",
     "text": [
      "2022/09/19 16:11:49 WARNING mlflow.sklearn: Failed to infer model signature: Expected one of (pandas.DataFrame, numpy array, dictionary of (name -> numpy.ndarray), pyspark.sql.DataFrame) but got '<class 'list'>'\n"
     ]
    },
    {
     "name": "stdout",
     "output_type": "stream",
     "text": [
      "rmse = 8.777\n"
     ]
    }
   ],
   "source": [
    "with mlflow.start_run():\n",
    "    mlflow.set_tag(\"developer\", \"marcos\")\n",
    "    mlflow.log_param(\"train-data-path\",TRAIN_PATHFILE)\n",
    "    mlflow.log_param(\"val-data-path\",VAL_PATHFILE)\n",
    "    params = dict(max_depth=20, n_estimators=100, min_samples_leaf=10, random_state=0)\n",
    "    pipeline = make_pipeline(\n",
    "        DictVectorizer(),\n",
    "        RandomForestRegressor(**params, n_jobs=1))\n",
    "    pipeline.fit(train_dict, y_train.ravel())\n",
    "    y_pred = pipeline.predict(val_dict)\n",
    "    rmse = mean_squared_error(y_pred, y_val, squared=False)\n",
    "    mlflow.log_metric(\"val_rmse\", rmse)\n",
    "    print(f'rmse = {rmse:.3f}')"
   ]
  },
  {
   "cell_type": "code",
   "execution_count": 42,
   "id": "b720623b",
   "metadata": {},
   "outputs": [],
   "source": [
    "y_pred = pipeline.predict(train_dict)"
   ]
  },
  {
   "cell_type": "code",
   "execution_count": 43,
   "id": "48a3c465",
   "metadata": {},
   "outputs": [
    {
     "name": "stdout",
     "output_type": "stream",
     "text": [
      "rmse = 9.562125968966342\n"
     ]
    }
   ],
   "source": [
    "print(f'rmse = {mean_squared_error(y_pred, y_train, squared=False)}')"
   ]
  },
  {
   "cell_type": "markdown",
   "id": "53c95fc4",
   "metadata": {},
   "source": [
    "## Get the 3 best models found in this execution and register them"
   ]
  },
  {
   "cell_type": "code",
   "execution_count": 75,
   "id": "0a540177",
   "metadata": {},
   "outputs": [],
   "source": [
    "client = mlflow.tracking.MlflowClient(tracking_uri=MLFLOW_TRACKING_URI)    "
   ]
  },
  {
   "cell_type": "code",
   "execution_count": 76,
   "id": "cb589bd7",
   "metadata": {},
   "outputs": [],
   "source": [
    "experiment_id = client.get_experiment_by_name(MLFLOW_EXPERIMENT_NAME).experiment_id"
   ]
  },
  {
   "cell_type": "code",
   "execution_count": 85,
   "id": "bd35ab55",
   "metadata": {},
   "outputs": [],
   "source": [
    "client.list_experiments()\n",
    "runs = client.search_runs(\n",
    "    experiment_ids = [experiment_id],\n",
    "    filter_string = f\"attribute.start_time>{int(now)} and metrics.val_rmse < 20\",\n",
    "    run_view_type = mlflow.entities.ViewType.ACTIVE_ONLY,\n",
    "    max_results = 3,\n",
    "    order_by = [\"metrics.val_rmse ASC\"])"
   ]
  },
  {
   "cell_type": "code",
   "execution_count": 119,
   "id": "fa4af758",
   "metadata": {
    "scrolled": false
   },
   "outputs": [
    {
     "name": "stdout",
     "output_type": "stream",
     "text": [
      "Run id: 2697bd118a42441abd3ef0e6f4e94b60, val_rmse: 7.973\n",
      "Run id: 2697bd118a42441abd3ef0e6f4e94b60, test_rmse: 9.096\n"
     ]
    },
    {
     "name": "stderr",
     "output_type": "stream",
     "text": [
      "Registered model 'chicago_taxi' already exists. Creating a new version of this model...\n",
      "2022/09/19 17:36:34 INFO mlflow.tracking._model_registry.client: Waiting up to 300 seconds for model version to finish creation.                     Model name: chicago_taxi, version 50\n",
      "Created version '50' of model 'chicago_taxi'.\n"
     ]
    },
    {
     "name": "stdout",
     "output_type": "stream",
     "text": [
      "Run id: bed8703cc02d4d61b16733c5542b8fee, val_rmse: 10.232\n",
      "Run id: bed8703cc02d4d61b16733c5542b8fee, test_rmse: 9.449\n"
     ]
    },
    {
     "name": "stderr",
     "output_type": "stream",
     "text": [
      "Registered model 'chicago_taxi' already exists. Creating a new version of this model...\n",
      "2022/09/19 17:36:36 INFO mlflow.tracking._model_registry.client: Waiting up to 300 seconds for model version to finish creation.                     Model name: chicago_taxi, version 51\n",
      "Created version '51' of model 'chicago_taxi'.\n"
     ]
    },
    {
     "name": "stdout",
     "output_type": "stream",
     "text": [
      "Run id: dd715a7fb7a24c37a02292db9e8a4f73, val_rmse: 10.673\n",
      "Run id: dd715a7fb7a24c37a02292db9e8a4f73, test_rmse: 10.020\n"
     ]
    },
    {
     "name": "stderr",
     "output_type": "stream",
     "text": [
      "Registered model 'chicago_taxi' already exists. Creating a new version of this model...\n",
      "2022/09/19 17:36:37 INFO mlflow.tracking._model_registry.client: Waiting up to 300 seconds for model version to finish creation.                     Model name: chicago_taxi, version 52\n",
      "Created version '52' of model 'chicago_taxi'.\n"
     ]
    }
   ],
   "source": [
    "best_model = 0\n",
    "best_rmse = float(\"inf\")\n",
    "for run in runs:\n",
    "    run_id =run.info.run_id\n",
    "    print(f\"Run id: {run_id}, val_rmse: {run.data.metrics['val_rmse']:.3f}\")\n",
    "    model_uri = f\"runs:/{run_id}/model\"\n",
    "    \n",
    "    model = mlflow.pyfunc.load_model(model_uri)\n",
    "    y_pred = model.predict(X_test)\n",
    "    test_rmse = mean_squared_error(y_test,y_pred, squared=False)\n",
    "    print(f\"Run id: {run_id}, test_rmse: {test_rmse:.3f}\")\n",
    "    \n",
    "    # Update the metrics in these experiments\n",
    "    client.log_metric(run.info.run_id, \"test_rmse\", test_rmse)\n",
    "    \n",
    "    model_version = mlflow.register_model(\n",
    "        model_uri=model_uri,\n",
    "        name=MLFLOW_MODEL_NAME,\n",
    "        # tags={'test_rmse': test_rmse}\n",
    "    )\n",
    "    \n",
    "    if (test_rmse < best_rmse):\n",
    "        best_model = model_version\n",
    "        best_rmse = test_rmse"
   ]
  },
  {
   "cell_type": "code",
   "execution_count": 122,
   "id": "4451c49c",
   "metadata": {},
   "outputs": [
    {
     "name": "stdout",
     "output_type": "stream",
     "text": [
      "Best model: run_id=2697bd118a42441abd3ef0e6f4e94b60 - version50\n"
     ]
    }
   ],
   "source": [
    "print(f'Best model: run_id={best_model.run_id} - version={best_model.version}')"
   ]
  },
  {
   "cell_type": "markdown",
   "id": "f95d8afe",
   "metadata": {},
   "source": [
    "## Set to Staging stage the best one, according to test dataset"
   ]
  },
  {
   "cell_type": "code",
   "execution_count": 123,
   "id": "742d98bb",
   "metadata": {},
   "outputs": [
    {
     "name": "stdout",
     "output_type": "stream",
     "text": [
      "Version: 52, stage: None\n",
      "Version: 1, stage: Staging\n"
     ]
    }
   ],
   "source": [
    "latest_versions = client.get_latest_versions(name=MLFLOW_MODEL_NAME)\n",
    "for version in latest_versions:\n",
    "    print(f\"Version: {version.version}, stage: {version.current_stage}\")"
   ]
  },
  {
   "cell_type": "code",
   "execution_count": 124,
   "id": "0389e290",
   "metadata": {},
   "outputs": [
    {
     "data": {
      "text/plain": [
       "<ModelVersion: creation_timestamp=1663601795878, current_stage='Staging', description='', last_updated_timestamp=1663601942658, name='chicago_taxi', run_id='2697bd118a42441abd3ef0e6f4e94b60', run_link='', source='s3://stg-chicago-taxi-mmjd/mlflow/2/2697bd118a42441abd3ef0e6f4e94b60/artifacts/model', status='READY', status_message='', tags={}, user_id='', version='50'>"
      ]
     },
     "execution_count": 124,
     "metadata": {},
     "output_type": "execute_result"
    }
   ],
   "source": [
    "client.transition_model_version_stage(\n",
    "    name = MLFLOW_MODEL_NAME,\n",
    "    version = best_model.version,\n",
    "    stage = \"Staging\",\n",
    "    archive_existing_versions = False)"
   ]
  },
  {
   "cell_type": "code",
   "execution_count": null,
   "id": "1a6e4de1",
   "metadata": {},
   "outputs": [],
   "source": []
  },
  {
   "cell_type": "code",
   "execution_count": null,
   "id": "b04273ac",
   "metadata": {},
   "outputs": [],
   "source": []
  }
 ],
 "metadata": {
  "kernelspec": {
   "display_name": "Python 3 (ipykernel)",
   "language": "python",
   "name": "python3"
  },
  "language_info": {
   "codemirror_mode": {
    "name": "ipython",
    "version": 3
   },
   "file_extension": ".py",
   "mimetype": "text/x-python",
   "name": "python",
   "nbconvert_exporter": "python",
   "pygments_lexer": "ipython3",
   "version": "3.9.7"
  },
  "vscode": {
   "interpreter": {
    "hash": "81c93a7bf43722fa7c63894895aef7b1dbe0e2bcac982bdbd66e964354c85542"
   }
  }
 },
 "nbformat": 4,
 "nbformat_minor": 5
}
